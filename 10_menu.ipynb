{
 "cells": [
  {
   "cell_type": "code",
   "execution_count": 3,
   "metadata": {},
   "outputs": [],
   "source": [
    "from tkinter import *\n",
    "\n",
    "\n",
    "root = Tk()\n",
    "root.title(\"Nado GUI\")\n",
    "root.geometry(\"640x480\")\n",
    "\n",
    "def create_new_file():\n",
    "    print('새 파일을 만듭니다.')\n",
    "\n",
    "menu = Menu(root)\n",
    "\n",
    "# File 메뉴\n",
    "menu_file = Menu(menu, tearoff=0)\n",
    "menu_file.add_command(label='New File', command=create_new_file)\n",
    "menu_file.add_command(label='New Window')\n",
    "menu_file.add_separator()\n",
    "menu_file.add_command(label='Open file...')\n",
    "menu_file.add_separator()\n",
    "menu_file.add_command(label='Save All', state='disable')\n",
    "menu_file.add_separator()\n",
    "menu_file.add_command(label='Exit', command=root.quit)\n",
    "menu.add_cascade(label='File', menu=menu_file)\n",
    "\n",
    "# Edit 메뉴(빈값)\n",
    "menu.add_cascade(label='Edit')\n",
    "\n",
    "# Language 메뉴 추가(radio 버튼을 통해 택1)\n",
    "menu_lang = Menu(menu, tearoff=0)\n",
    "menu_lang.add_radiobutton(label='python')\n",
    "menu_lang.add_radiobutton(label='java')\n",
    "menu_lang.add_radiobutton(label='C++')\n",
    "menu.add_cascade(label='language', menu=menu_lang)\n",
    "\n",
    "# View 메뉴\n",
    "menu_view = Menu(menu, tearoff=0)\n",
    "menu_view.add_checkbutton(label=\"Show minimap\")\n",
    "menu.add_cascade(label='View', menu=menu_view)\n",
    "\n",
    "root.config(menu=menu)\n",
    "root.mainloop()"
   ]
  },
  {
   "cell_type": "markdown",
   "metadata": {},
   "source": [
    ">메시지 박스"
   ]
  },
  {
   "cell_type": "code",
   "execution_count": 4,
   "metadata": {},
   "outputs": [
    {
     "name": "stdout",
     "output_type": "stream",
     "text": [
      "응답: False\n",
      "아니오\n"
     ]
    },
    {
     "name": "stderr",
     "output_type": "stream",
     "text": [
      "Exception in Tkinter callback\n",
      "Traceback (most recent call last):\n",
      "  File \"C:\\Users\\ICT01_10\\anaconda3\\lib\\tkinter\\__init__.py\", line 1892, in __call__\n",
      "    return self.func(*args)\n",
      "  File \"<ipython-input-4-1eaefe9af347>\", line 19, in okcancle\n",
      "    msgbox.askokcancle('확인 / 취소', '해당 좌석은 유아동반석입니다. 예매하시겠습니까?')\n",
      "AttributeError: module 'tkinter.messagebox' has no attribute 'askokcancle'\n",
      "Exception in Tkinter callback\n",
      "Traceback (most recent call last):\n",
      "  File \"C:\\Users\\ICT01_10\\anaconda3\\lib\\tkinter\\__init__.py\", line 1892, in __call__\n",
      "    return self.func(*args)\n",
      "  File \"<ipython-input-4-1eaefe9af347>\", line 19, in okcancle\n",
      "    msgbox.askokcancle('확인 / 취소', '해당 좌석은 유아동반석입니다. 예매하시겠습니까?')\n",
      "AttributeError: module 'tkinter.messagebox' has no attribute 'askokcancle'\n"
     ]
    }
   ],
   "source": [
    "import tkinter.messagebox as msgbox\n",
    "from tkinter import *\n",
    "\n",
    "root = Tk()\n",
    "root.title(\"Nado GUI\")\n",
    "root.geometry(\"640x480\")\n",
    "\n",
    "# 기차 예매 시스템이라고 가정\n",
    "def info():\n",
    "    msgbox.showinfo('알림', '정상적으로 예매 완료되었습니다.')\n",
    "\n",
    "def warn():\n",
    "    msgbox.showwarning('경고', '해당 좌석은 매진되었습니다.')\n",
    "\n",
    "def error():\n",
    "    msgbox.showerror('에러', '결제 오류가 발생했습니다.')\n",
    "\n",
    "def okcancle():\n",
    "    msgbox.askokcancle('확인 / 취소', '해당 좌석은 유아동반석입니다. 예매하시겠습니까?')\n",
    "\n",
    "def retraycancle():\n",
    "    msgbox.askretrycancel('재시도 / 취소', '일시적인 오류입니다. 다시 시도하시겠습니까?')\n",
    "\n",
    "def yesno():\n",
    "    msgbox.askyesno('예 / 아니오', '해당 좌석은 역방향입니다. 예매하시겠습니까?')\n",
    "\n",
    "def yesnocancel():\n",
    "    response = msgbox.askyesnocancel(title=None, message='예매 내역이 저장되지 않았습니다.\\n 저장 후 프로그램을 종료하시겠습니까?')\n",
    "    print('응답:', response)    # True, False, None\n",
    "    if response == 1:\n",
    "        print('예')\n",
    "    elif response == 0:\n",
    "        print('아니오')\n",
    "    else:\n",
    "        print('취소')\n",
    "\n",
    "Button(root, command=info, text='알림').pack()\n",
    "Button(root, command=warn, text='경고').pack()\n",
    "Button(root, command=error, text='에러').pack()\n",
    "\n",
    "Button(root, command=okcancle, text='확인 취소').pack()\n",
    "Button(root, command=retraycancle, text='재시도 취소').pack()\n",
    "Button(root, command=yesno, text='예 아니오').pack()\n",
    "Button(root, command=yesnocancel, text='예 아니오 취소').pack()\n",
    "\n",
    "root.mainloop()"
   ]
  },
  {
   "cell_type": "markdown",
   "metadata": {},
   "source": [
    ">프레임"
   ]
  },
  {
   "cell_type": "code",
   "execution_count": 17,
   "metadata": {},
   "outputs": [],
   "source": [
    "from tkinter import *\n",
    "\n",
    "root = Tk()\n",
    "root.title(\"Nado GUI\")\n",
    "root.geometry(\"640x480\")\n",
    "\n",
    "Label(root, text='메뉴를 선택해 주세요').pack(side='top')\n",
    "\n",
    "Button(root, text='주문하기').pack(side='bottom')\n",
    "\n",
    "frame_burger = Frame(root, relief='solid', bd=1)\n",
    "frame_burger.pack(side='left', fill='both', expand=True)\n",
    "\n",
    "Button(frame_burger, text='햄버거').pack()\n",
    "Button(frame_burger, text='치즈버거').pack()\n",
    "Button(frame_burger, text='치킨버거').pack()\n",
    "\n",
    "frame_drink = LabelFrame(root, text='음료')\n",
    "frame_drink.pack(side='right', fill='both', expand=True)\n",
    "Button(frame_drink, text='콜라').pack()\n",
    "Button(frame_drink, text='사이다').pack()\n",
    "\n",
    "root.mainloop()"
   ]
  },
  {
   "cell_type": "markdown",
   "metadata": {},
   "source": [
    ">스크롤바"
   ]
  },
  {
   "cell_type": "code",
   "execution_count": 2,
   "metadata": {},
   "outputs": [],
   "source": [
    "from tkinter import *\n",
    "\n",
    "root = Tk()\n",
    "root.title(\"Nado GUI\")\n",
    "root.geometry(\"640x480\")\n",
    "\n",
    "frame = Frame(root)\n",
    "frame.pack()\n",
    "\n",
    "scrollbar = Scrollbar(frame)\n",
    "scrollbar.pack(side='right', fill='y')\n",
    "\n",
    "listbox = Listbox(frame, selectmode='extended', height=10, yscrollcommand =  scrollbar.set)\n",
    "for i in range(1, 32):\n",
    "    listbox.insert(END, str(i) + '일')\n",
    "listbox.pack()\n",
    "\n",
    "scrollbar.config(command=listbox.yview)\n",
    "\n",
    "root.mainloop()"
   ]
  },
  {
   "cell_type": "markdown",
   "metadata": {},
   "source": [
    ">그리드"
   ]
  },
  {
   "cell_type": "code",
   "execution_count": null,
   "metadata": {},
   "outputs": [],
   "source": []
  }
 ],
 "metadata": {
  "interpreter": {
   "hash": "57728f4bfd9bc978c25d5c9cdcf277be28bad00a01dc89349b2fca774db23ac6"
  },
  "kernelspec": {
   "display_name": "Python 3.8.8 64-bit ('base': conda)",
   "language": "python",
   "name": "python3"
  },
  "language_info": {
   "codemirror_mode": {
    "name": "ipython",
    "version": 3
   },
   "file_extension": ".py",
   "mimetype": "text/x-python",
   "name": "python",
   "nbconvert_exporter": "python",
   "pygments_lexer": "ipython3",
   "version": "3.8.8"
  },
  "orig_nbformat": 4
 },
 "nbformat": 4,
 "nbformat_minor": 2
}
