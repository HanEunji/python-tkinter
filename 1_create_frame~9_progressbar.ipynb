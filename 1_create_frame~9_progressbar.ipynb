{
 "cells": [
  {
   "cell_type": "markdown",
   "metadata": {},
   "source": [
    ">create frame"
   ]
  },
  {
   "cell_type": "code",
   "execution_count": 1,
   "metadata": {},
   "outputs": [],
   "source": [
    "from tkinter import *\n",
    "\n",
    "root = Tk()\n",
    "root.title(\"Nado GUI\")\n",
    "# root.geometry(\"640x480\")\n",
    "root.geometry(\"640x480+300+100\")    # 가로 * 세로 + x좌표 + y 좌표\n",
    "\n",
    "root.resizable(False, False)    # x(너비), y(높이) 값 변경 불가\n",
    "root.mainloop()"
   ]
  },
  {
   "cell_type": "markdown",
   "metadata": {},
   "source": [
    ">button"
   ]
  },
  {
   "cell_type": "code",
   "execution_count": 3,
   "metadata": {},
   "outputs": [
    {
     "name": "stdout",
     "output_type": "stream",
     "text": [
      "버튼이 클릭되었어요\n",
      "버튼이 클릭되었어요\n"
     ]
    }
   ],
   "source": [
    "from tkinter import *\n",
    "\n",
    "root = Tk()\n",
    "root.title(\"Nado GUI\")\n",
    "\n",
    "btn1 = Button(root, text='버튼')\n",
    "btn1.pack()\n",
    "\n",
    "btn2 = Button(root, padx=5, pady=10, text='버튼2222222222') # 내용에 맞게 유동 크기(여백)\n",
    "btn2.pack()\n",
    "\n",
    "btn3 = Button(root, padx=10, pady=5, text='버튼3')\n",
    "btn3.pack()\n",
    "\n",
    "btn4 = Button(root, width=10, height=3, text='버튼4')   # 버튼 크기를 직접 지정\n",
    "btn4.pack()\n",
    "\n",
    "btn5 = Button(root, fg='red', bg='yellow', text='버튼5')\n",
    "btn5.pack()\n",
    "\n",
    "photo = PhotoImage(file=\"image.png\")\n",
    "btn6 = Button(root, image=photo)\n",
    "btn6.pack()\n",
    "\n",
    "def btncmd():\n",
    "    print('버튼이 클릭되었어요')\n",
    "\n",
    "btn7 = Button(root, text='동작하는 버튼', command=btncmd)\n",
    "btn7.pack()\n",
    "\n",
    "root.mainloop()"
   ]
  },
  {
   "cell_type": "markdown",
   "metadata": {},
   "source": [
    ">레이블"
   ]
  },
  {
   "cell_type": "code",
   "execution_count": 1,
   "metadata": {},
   "outputs": [],
   "source": [
    "from tkinter import *\n",
    "\n",
    "root = Tk()\n",
    "root.title(\"Nado GUI\")\n",
    "\n",
    "label1 = Label(root, text='안녕하세요')\n",
    "label1.pack()\n",
    "\n",
    "photo = PhotoImage(file='image.png')\n",
    "label2 = Label(root, image=photo)\n",
    "label2.pack()\n",
    "\n",
    "def change():\n",
    "    label1.config(text='see you later')\n",
    "\n",
    "    global photo2\n",
    "    photo2 = PhotoImage(file='image2.png')\n",
    "    label2.config(image=photo2)\n",
    "\n",
    "btn = Button(root, text='click', command=change)\n",
    "btn.pack()\n",
    "\n",
    "root.mainloop()"
   ]
  },
  {
   "cell_type": "markdown",
   "metadata": {},
   "source": [
    ">텍스트, 엔트리"
   ]
  },
  {
   "cell_type": "code",
   "execution_count": 6,
   "metadata": {},
   "outputs": [],
   "source": [
    "from tkinter import *\n",
    "\n",
    "root = Tk()\n",
    "root.title(\"Nado GUI\")\n",
    "root.geometry(\"640x480\")\n",
    "\n",
    "txt = Text(root, width=30, height=5)\n",
    "txt.pack()\n",
    "\n",
    "txt.insert(END, '글자를 입력하세요')\n",
    "\n",
    "e = Entry(root, width=30)       # 엔터 사용 불가. 한줄로 입력받을 때만\n",
    "e.pack()\n",
    "e.insert(0, '한 줄만 입력해요')\n",
    "\n",
    "def btncmd():\n",
    "    # 내용 출력\n",
    "    print(txt.get(\"1.0\", END))  # 라인 1, column 0부터 가져와라, 끝까지(END)\n",
    "    print(e.get())\n",
    "\n",
    "    # 내용 삭제\n",
    "    txt.delete(\"1.0\", END)\n",
    "    e.delete(0, END)\n",
    "\n",
    "btn = Button(root, text='click', command=btncmd)\n",
    "btn.pack()\n",
    "\n",
    "root.mainloop()"
   ]
  },
  {
   "cell_type": "markdown",
   "metadata": {},
   "source": [
    ">리스트 박스"
   ]
  },
  {
   "cell_type": "code",
   "execution_count": 5,
   "metadata": {},
   "outputs": [],
   "source": [
    "from tkinter import *\n",
    "\n",
    "root = Tk()\n",
    "root.title(\"Nado GUI\")\n",
    "root.geometry(\"640x480\")\n",
    "\n",
    "listbox = Listbox(root, selectmode='extended', height=3)        #height는 지정된 줄 수만큼만 출력\n",
    "listbox.insert(0, 'apple')\n",
    "listbox.insert(1, 'strawberry')\n",
    "listbox.insert(2, 'banana')\n",
    "listbox.insert(END, 'putao')\n",
    "listbox.pack()\n",
    "\n",
    "def btncmd():\n",
    "    # listbox.delete(0) # 0 : 맨 앞 항목 삭제/END : 맨 뒤 항목 삭제\n",
    "\n",
    "    # 갯수 확인\n",
    "    # print('리스트에는', listbox.size(), '개가 있어요')\n",
    "\n",
    "    # 항목 확인 (시작 idx, 끝 idx)\n",
    "    # print('첫번째부터 세번째까지의 항목 : ', listbox.get(0, 2))\n",
    "\n",
    "    # 선택된 항목 확인 (인덱스값으로 반환)\n",
    "    print('선택된 항목 : ', listbox.curselection())\n",
    "\n",
    "btn = Button(root, text='click', command=btncmd)\n",
    "btn.pack()\n",
    "\n",
    "root.mainloop()"
   ]
  },
  {
   "cell_type": "markdown",
   "metadata": {},
   "source": [
    ">체크박스"
   ]
  },
  {
   "cell_type": "code",
   "execution_count": 27,
   "metadata": {},
   "outputs": [
    {
     "name": "stdout",
     "output_type": "stream",
     "text": [
      "1\n",
      "1\n",
      "0\n",
      "1\n"
     ]
    }
   ],
   "source": [
    "from tkinter import *\n",
    "\n",
    "root = Tk()\n",
    "root.title(\"Nado GUI\")\n",
    "root.geometry(\"640x480\")\n",
    "\n",
    "chkvar = IntVar()   # chkvar에 int형으로 값을 저장한다\n",
    "chkbox = Checkbutton(root, text='오늘 하루 보지 않기', variable=chkvar)\n",
    "# chkbox.select() # 자동 선택 처리\n",
    "# chkbox.deselect()   # 선택 해제 처리\n",
    "chkbox.pack()\n",
    "\n",
    "chkvar2 = IntVar()\n",
    "chkbox2 = Checkbutton(root, text='일주일동안 보지 않기', variable=chkvar2)\n",
    "chkbox2.pack()\n",
    "\n",
    "def btncmd():\n",
    "    print(chkvar.get()) # 0 : 체크 해제, 1 : 체크\n",
    "    print(chkvar2.get()) # 0 : 체크 해제, 1 : 체크\n",
    "    \n",
    "\n",
    "btn = Button(root, text='click', command=btncmd)\n",
    "btn.pack()\n",
    "\n",
    "root.mainloop()"
   ]
  },
  {
   "cell_type": "markdown",
   "metadata": {},
   "source": [
    ">라디오 버튼"
   ]
  },
  {
   "cell_type": "code",
   "execution_count": 31,
   "metadata": {},
   "outputs": [
    {
     "name": "stdout",
     "output_type": "stream",
     "text": [
      "1\n",
      "콜라\n",
      "2\n",
      "콜라\n",
      "2\n",
      "사이다\n",
      "3\n",
      "사이다\n",
      "1\n",
      "사이다\n"
     ]
    }
   ],
   "source": [
    "from tkinter import *\n",
    "\n",
    "root = Tk()\n",
    "root.title(\"Nado GUI\")\n",
    "root.geometry(\"640x480\")\n",
    "\n",
    "Label(root, text='메뉴를 선택하세요').pack()\n",
    "\n",
    "burger_var = IntVar()\n",
    "btn_burger1 = Radiobutton(root, text='햄버거', value=1, variable=burger_var)\n",
    "btn_burger1.select()\n",
    "btn_burger2 = Radiobutton(root, text='치즈버거', value=2, variable=burger_var)\n",
    "btn_burger3 = Radiobutton(root, text='치킨버거', value=3, variable=burger_var)\n",
    "\n",
    "btn_burger1.pack()\n",
    "btn_burger2.pack()\n",
    "btn_burger3.pack()\n",
    "\n",
    "Label(root, text='음료를 선택하세요').pack()\n",
    "\n",
    "drink_var = StringVar()\n",
    "btn_drink1 = Radiobutton(root, text='콜라', value='콜라', variable=drink_var)\n",
    "btn_drink1.select()\n",
    "btn_drink2 = Radiobutton(root, text='사이다', value='사이다', variable=drink_var)\n",
    "\n",
    "btn_drink1.pack()\n",
    "btn_drink2.pack()\n",
    "\n",
    "def btncmd():\n",
    "    print(burger_var.get()) # 햄버거 중 선택된 라디오 항목의 값\n",
    "    print(drink_var.get())\n",
    "\n",
    "btn = Button(root, text='주문', command=btncmd)\n",
    "btn.pack()\n",
    "\n",
    "root.mainloop()"
   ]
  },
  {
   "cell_type": "markdown",
   "metadata": {},
   "source": [
    ">콤보박스"
   ]
  },
  {
   "cell_type": "code",
   "execution_count": 3,
   "metadata": {},
   "outputs": [],
   "source": [
    "import tkinter.ttk as ttk\n",
    "from tkinter import *\n",
    "\n",
    "\n",
    "root = Tk()\n",
    "root.title(\"Nado GUI\")\n",
    "root.geometry(\"640x480\")\n",
    "\n",
    "values = [str(i)+'일' for i in range(1, 32)]\n",
    "combobox = ttk.Combobox(root, height=5, values=values)\n",
    "combobox.pack()\n",
    "combobox.set('카드 결제일')     # 최초 목록 제목 설정\n",
    "\n",
    "\n",
    "readonly_combobox = ttk.Combobox(root, height=10, values=values, state='readonly')\n",
    "readonly_combobox.current(0)\n",
    "readonly_combobox.pack()\n",
    "\n",
    "def btncmd():\n",
    "    print(combobox.get())\n",
    "    print(readonly_combobox.get())\n",
    "\n",
    "btn = Button(root, text='선택', command=btncmd)\n",
    "btn.pack()\n",
    "\n",
    "root.mainloop()"
   ]
  },
  {
   "cell_type": "markdown",
   "metadata": {},
   "source": [
    ">프로그레스 바"
   ]
  },
  {
   "cell_type": "code",
   "execution_count": 4,
   "metadata": {},
   "outputs": [
    {
     "name": "stdout",
     "output_type": "stream",
     "text": [
      "1.0\n",
      "2.0\n",
      "3.0\n",
      "4.0\n",
      "5.0\n",
      "6.0\n",
      "7.0\n",
      "8.0\n",
      "9.0\n",
      "10.0\n",
      "11.0\n",
      "12.0\n",
      "13.0\n",
      "14.0\n",
      "15.0\n",
      "16.0\n",
      "17.0\n",
      "18.0\n",
      "19.0\n",
      "20.0\n",
      "21.0\n",
      "22.0\n",
      "23.0\n",
      "24.0\n",
      "25.0\n",
      "26.0\n",
      "27.0\n",
      "28.0\n",
      "29.0\n",
      "30.0\n",
      "31.0\n",
      "32.0\n",
      "33.0\n",
      "34.0\n",
      "35.0\n",
      "36.0\n",
      "37.0\n",
      "38.0\n",
      "39.0\n",
      "40.0\n",
      "41.0\n",
      "42.0\n",
      "43.0\n",
      "44.0\n",
      "45.0\n",
      "46.0\n",
      "47.0\n",
      "48.0\n",
      "49.0\n",
      "50.0\n",
      "51.0\n",
      "52.0\n",
      "53.0\n",
      "54.0\n",
      "55.0\n",
      "56.0\n",
      "57.0\n",
      "58.0\n",
      "59.0\n",
      "60.0\n",
      "61.0\n",
      "62.0\n",
      "63.0\n",
      "64.0\n",
      "65.0\n",
      "66.0\n",
      "67.0\n",
      "68.0\n",
      "69.0\n",
      "70.0\n",
      "71.0\n",
      "72.0\n",
      "73.0\n",
      "74.0\n",
      "75.0\n"
     ]
    },
    {
     "name": "stderr",
     "output_type": "stream",
     "text": [
      "Exception in Tkinter callback\n",
      "Traceback (most recent call last):\n",
      "  File \"C:\\Users\\ICT01_10\\anaconda3\\lib\\tkinter\\__init__.py\", line 1892, in __call__\n",
      "    return self.func(*args)\n",
      "  File \"<ipython-input-4-3f286144ab7c>\", line 30, in btncmd2\n",
      "    progressbar2.update()   # ui 업데이트\n",
      "  File \"C:\\Users\\ICT01_10\\anaconda3\\lib\\tkinter\\__init__.py\", line 1314, in update\n",
      "    self.tk.call('update')\n",
      "_tkinter.TclError: can't invoke \"update\" command: application has been destroyed\n"
     ]
    }
   ],
   "source": [
    "import time\n",
    "import tkinter.ttk as ttk\n",
    "from tkinter import *\n",
    "\n",
    "\n",
    "root = Tk()\n",
    "root.title(\"Nado GUI\")\n",
    "root.geometry(\"640x480\")\n",
    "\n",
    "# progressbar = ttk.Progressbar(root, maximum=100, mode='indeterminate')  # indeterminate : 결정되지 않음\n",
    "# progressbar = ttk.Progressbar(root, maximum=100, mode='determinate')    # 차오름\n",
    "# progressbar.start(10)   # 10ms마다 움직임\n",
    "# progressbar.pack()\n",
    "\n",
    "# def btncmd():\n",
    "#     progressbar.stop()  # 작동 중지\n",
    "\n",
    "# btn = Button(root, text='중지', command=btncmd)\n",
    "# btn.pack()\n",
    "\n",
    "p_var2 = DoubleVar()\n",
    "progressbar2 = ttk.Progressbar(root, maximum=100, length=150, variable=p_var2)\n",
    "progressbar2.pack()\n",
    "\n",
    "def btncmd2():\n",
    "    for i in range(1, 101):\n",
    "        time.sleep(0.01)\n",
    "\n",
    "        p_var2.set(i)       # progress bar의 값 설정\n",
    "        progressbar2.update()   # ui 업데이트\n",
    "        print(p_var2.get())\n",
    "\n",
    "btn = Button(root, text='시작', command=btncmd2)\n",
    "btn.pack()\n",
    "\n",
    "root.mainloop()"
   ]
  },
  {
   "cell_type": "code",
   "execution_count": null,
   "metadata": {},
   "outputs": [],
   "source": []
  }
 ],
 "metadata": {
  "interpreter": {
   "hash": "57728f4bfd9bc978c25d5c9cdcf277be28bad00a01dc89349b2fca774db23ac6"
  },
  "kernelspec": {
   "display_name": "Python 3.8.8 64-bit ('base': conda)",
   "language": "python",
   "name": "python3"
  },
  "language_info": {
   "codemirror_mode": {
    "name": "ipython",
    "version": 3
   },
   "file_extension": ".py",
   "mimetype": "text/x-python",
   "name": "python",
   "nbconvert_exporter": "python",
   "pygments_lexer": "ipython3",
   "version": "3.8.8"
  },
  "orig_nbformat": 4
 },
 "nbformat": 4,
 "nbformat_minor": 2
}
